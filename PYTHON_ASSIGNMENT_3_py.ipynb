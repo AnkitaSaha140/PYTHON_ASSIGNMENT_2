{
  "nbformat": 4,
  "nbformat_minor": 0,
  "metadata": {
    "colab": {
      "name": "PYTHON_ASSIGNMENT_3.py",
      "provenance": [],
      "authorship_tag": "ABX9TyP8iTg3Y73UX9zdXFqfZD80",
      "include_colab_link": true
    },
    "kernelspec": {
      "name": "python3",
      "display_name": "Python 3"
    }
  },
  "cells": [
    {
      "cell_type": "markdown",
      "metadata": {
        "id": "view-in-github",
        "colab_type": "text"
      },
      "source": [
        "<a href=\"https://colab.research.google.com/github/AnkitaSaha140/PYTHON_ASSIGNMENT_2/blob/main/PYTHON_ASSIGNMENT_3_py.ipynb\" target=\"_parent\"><img src=\"https://colab.research.google.com/assets/colab-badge.svg\" alt=\"Open In Colab\"/></a>"
      ]
    },
    {
      "cell_type": "markdown",
      "metadata": {
        "id": "bbAkCKb6DKFP"
      },
      "source": [
        "1.WAP to print your name 10 times"
      ]
    },
    {
      "cell_type": "code",
      "metadata": {
        "colab": {
          "base_uri": "https://localhost:8080/"
        },
        "id": "kmY9o1nQCvV6",
        "outputId": "e0b9b336-d404-45e0-8e99-e8d538881856"
      },
      "source": [
        "print(\"Ankita Saha\\n\"*10)"
      ],
      "execution_count": null,
      "outputs": [
        {
          "output_type": "stream",
          "text": [
            "Ankita Saha\n",
            "Ankita Saha\n",
            "Ankita Saha\n",
            "Ankita Saha\n",
            "Ankita Saha\n",
            "Ankita Saha\n",
            "Ankita Saha\n",
            "Ankita Saha\n",
            "Ankita Saha\n",
            "Ankita Saha\n",
            "\n"
          ],
          "name": "stdout"
        }
      ]
    },
    {
      "cell_type": "markdown",
      "metadata": {
        "id": "gxb3-8BqDmr9"
      },
      "source": [
        "2.WAP to print natural number from 1 to n.Enter the range: 10\r\n",
        "The series is: 1 2 3 4 5 6 7 8 9 10"
      ]
    },
    {
      "cell_type": "code",
      "metadata": {
        "colab": {
          "base_uri": "https://localhost:8080/"
        },
        "id": "81Pa8CnDDR-w",
        "outputId": "81605849-acdc-42b3-c15e-2c66040f2269"
      },
      "source": [
        "n=int(input(\"Enter the range\"))\r\n",
        "for i in range(1,n+1):\r\n",
        "  print(i,end=\" \")"
      ],
      "execution_count": null,
      "outputs": [
        {
          "output_type": "stream",
          "text": [
            "Enter the range10\n",
            "1 2 3 4 5 6 7 8 9 10 "
          ],
          "name": "stdout"
        }
      ]
    },
    {
      "cell_type": "markdown",
      "metadata": {
        "id": "pVMhO0U3EBIo"
      },
      "source": [
        "3.WAP to print the following series.\r\n",
        "Enter the range: 20\r\n",
        "1 3 5 7 9 11 13 15 17 19"
      ]
    },
    {
      "cell_type": "code",
      "metadata": {
        "colab": {
          "base_uri": "https://localhost:8080/"
        },
        "id": "IDmgHRmPD7hI",
        "outputId": "3a6a8030-c859-4576-db74-110a2bad41b7"
      },
      "source": [
        "n=int(input(\"Enter the range\"))\r\n",
        "for i in range(1,n+1,2):\r\n",
        "  print(i,end=\" \")\r\n",
        "  \r\n"
      ],
      "execution_count": null,
      "outputs": [
        {
          "output_type": "stream",
          "text": [
            "Enter the range20\n",
            "1 3 5 7 9 11 13 15 17 19 "
          ],
          "name": "stdout"
        }
      ]
    },
    {
      "cell_type": "markdown",
      "metadata": {
        "id": "BOPjpIvYGCaC"
      },
      "source": [
        "4.WAP to calculate and display the factorial of\r\n",
        "an inputted number.\r\n"
      ]
    },
    {
      "cell_type": "code",
      "metadata": {
        "id": "9rr4yMhPEWM1",
        "colab": {
          "base_uri": "https://localhost:8080/"
        },
        "outputId": "5a464ee3-893d-4896-afae-450c8cd69182"
      },
      "source": [
        "print(\"Enter the number:\")\r\n",
        "n=int(input())\r\n",
        "if n==0:\r\n",
        "  print(\"Factorial:1\")\r\n",
        "elif n<0:\r\n",
        "  print(\"Factorial is defined only for non negative number\")\r\n",
        "else:\r\n",
        "  factorial(n)\r\n"
      ],
      "execution_count": null,
      "outputs": [
        {
          "output_type": "stream",
          "text": [
            "Enter the number:\n",
            "5\n",
            "Factorial of 5 is 120\n"
          ],
          "name": "stdout"
        }
      ]
    },
    {
      "cell_type": "code",
      "metadata": {
        "id": "6ZFHZnuQIS6D"
      },
      "source": [
        "def factorial(n):\r\n",
        "  fact=1\r\n",
        "  for i in range(1,n+1):\r\n",
        "          fact=fact*i\r\n",
        "  print(\"Factorial of\",n,\"is\",fact)\r\n"
      ],
      "execution_count": 1,
      "outputs": []
    },
    {
      "cell_type": "markdown",
      "metadata": {
        "id": "tVkZXUnOIOrJ"
      },
      "source": [
        "5.WAP to generate the table of an inputted\r\n",
        "number using for loop.\r\n",
        "Enter the number:3\r\n",
        "3*1=3\r\n",
        "3*2=6\r\n"
      ]
    },
    {
      "cell_type": "code",
      "metadata": {
        "colab": {
          "base_uri": "https://localhost:8080/"
        },
        "id": "1Dj1XbvOGPpm",
        "outputId": "269f4619-73f8-4d65-ccdb-7c90bbc1ef41"
      },
      "source": [
        "print(\"Enter the number:\")\r\n",
        "n=int(input())\r\n",
        "for i in range(1,11):\r\n",
        "  print(n,\"*\",i,\"=\",n*i)"
      ],
      "execution_count": null,
      "outputs": [
        {
          "output_type": "stream",
          "text": [
            "Enter the number:\n",
            "3\n",
            "3 * 1 = 3\n",
            "3 * 2 = 6\n",
            "3 * 3 = 9\n",
            "3 * 4 = 12\n",
            "3 * 5 = 15\n",
            "3 * 6 = 18\n",
            "3 * 7 = 21\n",
            "3 * 8 = 24\n",
            "3 * 9 = 27\n",
            "3 * 10 = 30\n"
          ],
          "name": "stdout"
        }
      ]
    },
    {
      "cell_type": "markdown",
      "metadata": {
        "id": "8F4hHKqcJt3s"
      },
      "source": [
        "6.WAP to display factors of an inputted\r\n",
        "number"
      ]
    },
    {
      "cell_type": "code",
      "metadata": {
        "colab": {
          "base_uri": "https://localhost:8080/"
        },
        "id": "tmD9PwmOJm5g",
        "outputId": "34a21a70-762b-4e5f-cb5f-07bd2df45aa4"
      },
      "source": [
        "print(\"Enter a number to find its factor:\")\r\n",
        "n=int(input())\r\n",
        "print(\"Factors:\",end=\" \")\r\n",
        "for i in range(1,n+1):\r\n",
        "    if n%i==0:\r\n",
        "      print (i,end=\" \")"
      ],
      "execution_count": null,
      "outputs": [
        {
          "output_type": "stream",
          "text": [
            "Enter a number to find its factor:\n",
            "6\n",
            "Factors: 1 2 3 6 "
          ],
          "name": "stdout"
        }
      ]
    },
    {
      "cell_type": "markdown",
      "metadata": {
        "id": "I1Qbj9-WKXL2"
      },
      "source": [
        "7.WAP to calculate sum of first n numbers.\r\n",
        "1+2+…+n"
      ]
    },
    {
      "cell_type": "code",
      "metadata": {
        "colab": {
          "base_uri": "https://localhost:8080/"
        },
        "id": "64OqF5ZZJ3aP",
        "outputId": "ccc21beb-c4fa-41c3-90b9-1dca303abea9"
      },
      "source": [
        "sum=0\r\n",
        "print(\"Enter a number:\")\r\n",
        "n=int(input())\r\n",
        "for i in range(1,n+1):\r\n",
        "  sum=sum+i\r\n",
        "print(\"The sum of first\",n,\"number is:\",sum)\r\n"
      ],
      "execution_count": null,
      "outputs": [
        {
          "output_type": "stream",
          "text": [
            "Enter a number:\n",
            "6\n",
            "The sum of first 6 number is: 21\n"
          ],
          "name": "stdout"
        }
      ]
    },
    {
      "cell_type": "markdown",
      "metadata": {
        "id": "cHR70Ie5Ltoi"
      },
      "source": [
        "8.WAP to check whether an inputted number\r\n",
        "is prime or not."
      ]
    },
    {
      "cell_type": "code",
      "metadata": {
        "id": "OM44VvTnK0K1"
      },
      "source": [
        "def check_prime(n):\r\n",
        "  c=0\r\n",
        "  for i in range(2,n):\r\n",
        "    if n%i==0:\r\n",
        "      c=c+1\r\n",
        "  return c  \r\n",
        "  "
      ],
      "execution_count": null,
      "outputs": []
    },
    {
      "cell_type": "code",
      "metadata": {
        "colab": {
          "base_uri": "https://localhost:8080/"
        },
        "id": "6O4vXs3Rikx0",
        "outputId": "eb36fb67-5a2d-4d52-f931-64bdd1f29db3"
      },
      "source": [
        "print(\"Enter a number:\")\r\n",
        "n=int(input())\r\n",
        "p=check_prime(n)\r\n",
        "if p==0:\r\n",
        "  print(\"Prime\")\r\n",
        "else:\r\n",
        "  print(\"Non Prime\")"
      ],
      "execution_count": null,
      "outputs": [
        {
          "output_type": "stream",
          "text": [
            "Enter a number:\n",
            "10\n",
            "Non Prime\n"
          ],
          "name": "stdout"
        }
      ]
    },
    {
      "cell_type": "markdown",
      "metadata": {
        "id": "ZArXCq43iXwS"
      },
      "source": [
        "9.WAP to display all the prime number upto n."
      ]
    },
    {
      "cell_type": "code",
      "metadata": {
        "colab": {
          "base_uri": "https://localhost:8080/"
        },
        "id": "Luewh-DWh5Ru",
        "outputId": "d6dfe8ca-2340-4361-ebeb-420dc5a49f9d"
      },
      "source": [
        "ran=int(input(\"Enter the number\"))\r\n",
        "print(\"Prime numbers:\",end=\" \")\r\n",
        "for i in range(2,ran+1):\r\n",
        "  p=check_prime(i)\r\n",
        "  if p==0:\r\n",
        "    print(i,end=\" \")\r\n",
        "\r\n",
        "\r\n"
      ],
      "execution_count": null,
      "outputs": [
        {
          "output_type": "stream",
          "text": [
            "Enter the number10\n",
            "Prime numbers: 2 3 5 7 "
          ],
          "name": "stdout"
        }
      ]
    },
    {
      "cell_type": "markdown",
      "metadata": {
        "id": "jSFCed29nZc_"
      },
      "source": [
        "10.WAP to print the following patterns using\r\n",
        "loop"
      ]
    },
    {
      "cell_type": "code",
      "metadata": {
        "colab": {
          "base_uri": "https://localhost:8080/"
        },
        "id": "9H_AQ5Qij_7S",
        "outputId": "ea640513-870b-4e72-bc23-c5b14ffc0ca7"
      },
      "source": [
        "ran=int(input(\"Enter number:\"))\r\n",
        "for i in range(1,ran+1):\r\n",
        "  for j in range(1,i+1):\r\n",
        "    print(\"*\",end='')\r\n",
        "  print()"
      ],
      "execution_count": null,
      "outputs": [
        {
          "output_type": "stream",
          "text": [
            "Enter number:5\n",
            "*\n",
            "**\n",
            "***\n",
            "****\n",
            "*****\n"
          ],
          "name": "stdout"
        }
      ]
    },
    {
      "cell_type": "code",
      "metadata": {
        "colab": {
          "base_uri": "https://localhost:8080/"
        },
        "id": "BMLqTjx69_Yg",
        "outputId": "587e78e8-3302-44dd-dd7d-35c2f3b8ac85"
      },
      "source": [
        "def tripat():\r\n",
        "  ran=int(input(\"Enter number:\"))\r\n",
        "  for i in range(1,ran+1):\r\n",
        "    print(\"*\"*i)\r\n",
        "  print()\r\n",
        "if __name__ == \"__main__\":\r\n",
        "  tripat()"
      ],
      "execution_count": null,
      "outputs": [
        {
          "output_type": "stream",
          "text": [
            "Enter number:5\n",
            "*\n",
            "**\n",
            "***\n",
            "****\n",
            "*****\n",
            "\n"
          ],
          "name": "stdout"
        }
      ]
    },
    {
      "cell_type": "code",
      "metadata": {
        "colab": {
          "base_uri": "https://localhost:8080/"
        },
        "id": "OFOVIjOZye3f",
        "outputId": "3f5c3d9d-a904-42a2-d241-a32db3213002"
      },
      "source": [
        "ran=int(input(\"Enter number:\"))\r\n",
        "for i in range(0,ran):\r\n",
        "      print(\" \"*i,\"A\"*(ran-i))\r\n",
        "print()\r\n",
        "    "
      ],
      "execution_count": null,
      "outputs": [
        {
          "output_type": "stream",
          "text": [
            "Enter number:5\n",
            " AAAAA\n",
            "  AAAA\n",
            "   AAA\n",
            "    AA\n",
            "     A\n",
            "\n"
          ],
          "name": "stdout"
        }
      ]
    },
    {
      "cell_type": "markdown",
      "metadata": {
        "id": "8Sp2WMNEp49p"
      },
      "source": [
        "11.WAP to print the following patterns using\r\n",
        "loop.\r\n"
      ]
    },
    {
      "cell_type": "code",
      "metadata": {
        "colab": {
          "base_uri": "https://localhost:8080/"
        },
        "id": "0ZW7KE_21a5a",
        "outputId": "5302bc54-7cd0-4d9c-f34a-189cc4472a0c"
      },
      "source": [
        "k=1\r\n",
        "ran=int(input(\"Enter number:\"))\r\n",
        "for i in range(1,ran+1):\r\n",
        "      print(\" \"*(ran-i),\"O\"*k)\r\n",
        "      k+=2\r\n",
        "print()\r\n",
        "    "
      ],
      "execution_count": null,
      "outputs": [
        {
          "output_type": "stream",
          "text": [
            "Enter number:4\n",
            "    O\n",
            "   OOO\n",
            "  OOOOO\n",
            " OOOOOOO\n",
            "\n"
          ],
          "name": "stdout"
        }
      ]
    },
    {
      "cell_type": "code",
      "metadata": {
        "colab": {
          "base_uri": "https://localhost:8080/"
        },
        "id": "8pE2r7Qt2RZV",
        "outputId": "04886113-4307-4a54-ff41-a262383502a2"
      },
      "source": [
        "k=7\r\n",
        "for i in range(0,ran):\r\n",
        "      print(\" \"*i,\"O\"*k)\r\n",
        "      k-=2\r\n",
        "print()\r\n",
        "    "
      ],
      "execution_count": null,
      "outputs": [
        {
          "output_type": "stream",
          "text": [
            " OOOOOOO\n",
            "  OOOOO\n",
            "   OOO\n",
            "    O\n",
            "     \n",
            "\n"
          ],
          "name": "stdout"
        }
      ]
    },
    {
      "cell_type": "code",
      "metadata": {
        "colab": {
          "base_uri": "https://localhost:8080/"
        },
        "id": "yhx9-UDPoly-",
        "outputId": "63ca6013-71c7-4a19-ee4f-3cae692f3dce"
      },
      "source": [
        "k=1\r\n",
        "for i in range(1,5):\r\n",
        "  for j in range(1,i+1):\r\n",
        "    print(k,end=\" \")\r\n",
        "    k=k+1\r\n",
        "  print()"
      ],
      "execution_count": null,
      "outputs": [
        {
          "output_type": "stream",
          "text": [
            "1 \n",
            "2 3 \n",
            "4 5 6 \n",
            "7 8 9 10 \n"
          ],
          "name": "stdout"
        }
      ]
    },
    {
      "cell_type": "markdown",
      "metadata": {
        "id": "iW_QchMKqt6o"
      },
      "source": [
        "12.WAP to print first n Fibonacci numbers."
      ]
    },
    {
      "cell_type": "code",
      "metadata": {
        "colab": {
          "base_uri": "https://localhost:8080/"
        },
        "id": "IeKB8ITRqR_f",
        "outputId": "63ed7368-1062-4aed-af0c-e8ce31da0ae7"
      },
      "source": [
        "a=0\r\n",
        "b=1\r\n",
        "c=0\r\n",
        "n=int(input(\"Enter the number:\"))\r\n",
        "print(\"0\",end=' ')\r\n",
        "for i in range(1,n):\r\n",
        "  print(c,end=\" \")\r\n",
        "  c=a+b\r\n",
        "  a=b\r\n",
        "  b=c\r\n"
      ],
      "execution_count": null,
      "outputs": [
        {
          "output_type": "stream",
          "text": [
            "Enter the number:10\n",
            "0 0 1 2 3 5 8 13 21 34 "
          ],
          "name": "stdout"
        }
      ]
    },
    {
      "cell_type": "code",
      "metadata": {
        "id": "VtzOag5A5_I2",
        "colab": {
          "base_uri": "https://localhost:8080/"
        },
        "outputId": "b0a06987-8af7-441e-f2cb-69a1f4a79a41"
      },
      "source": [
        "k=2\r\n",
        "for i in range(1,4):\r\n",
        "  for j in range(1,4):\r\n",
        "      print(k,end=\" \")\r\n",
        "      k+=2\r\n",
        "  print()"
      ],
      "execution_count": null,
      "outputs": [
        {
          "output_type": "stream",
          "text": [
            "2 4 6 \n",
            "8 10 12 \n",
            "14 16 18 \n"
          ],
          "name": "stdout"
        }
      ]
    },
    {
      "cell_type": "code",
      "metadata": {
        "colab": {
          "base_uri": "https://localhost:8080/"
        },
        "id": "tyQDKbGjnlCv",
        "outputId": "5391e5a0-c4d8-4950-c8dc-9909156e15e5"
      },
      "source": [
        "k=1\r\n",
        "for i in range(1,4):\r\n",
        "  for j in range(1,7):\r\n",
        "    if k%2==0:\r\n",
        "      print(k,end=\" \")\r\n",
        "    k+=1\r\n",
        "  print()"
      ],
      "execution_count": null,
      "outputs": [
        {
          "output_type": "stream",
          "text": [
            "2 4 6 \n",
            "8 10 12 \n",
            "14 16 18 \n"
          ],
          "name": "stdout"
        }
      ]
    },
    {
      "cell_type": "code",
      "metadata": {
        "colab": {
          "base_uri": "https://localhost:8080/"
        },
        "id": "9s9JEhWQ7Dh1",
        "outputId": "009f0f47-e4f5-43b0-cf91-3fe69e9ba84b"
      },
      "source": [
        "ran=int(input(\"Enter number:\"))\r\n",
        "for i in range(1,ran+1):\r\n",
        "      print(\" \"*(ran-i),\"*\"*i)\r\n",
        "print()\r\n",
        "    "
      ],
      "execution_count": null,
      "outputs": [
        {
          "output_type": "stream",
          "text": [
            "Enter number:5\n",
            "     *\n",
            "    **\n",
            "   ***\n",
            "  ****\n",
            " *****\n",
            "\n"
          ],
          "name": "stdout"
        }
      ]
    },
    {
      "cell_type": "code",
      "metadata": {
        "id": "ENZmqb_apqlW"
      },
      "source": [
        ""
      ],
      "execution_count": null,
      "outputs": []
    }
  ]
}